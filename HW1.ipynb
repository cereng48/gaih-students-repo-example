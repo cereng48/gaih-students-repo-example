{
  "nbformat": 4,
  "nbformat_minor": 0,
  "metadata": {
    "colab": {
      "name": "HW1.ipynb",
      "provenance": [],
      "collapsed_sections": [],
      "authorship_tag": "ABX9TyMHH2dBpzpnYEYIBBfKpJy7",
      "include_colab_link": true
    },
    "kernelspec": {
      "name": "python3",
      "display_name": "Python 3"
    }
  },
  "cells": [
    {
      "cell_type": "markdown",
      "metadata": {
        "id": "view-in-github",
        "colab_type": "text"
      },
      "source": [
        "<a href=\"https://colab.research.google.com/github/cereng48/gaih-students-repo-example/blob/main/HW1.ipynb\" target=\"_parent\"><img src=\"https://colab.research.google.com/assets/colab-badge.svg\" alt=\"Open In Colab\"/></a>"
      ]
    },
    {
      "cell_type": "code",
      "metadata": {
        "id": "HAWpjXqUgDQ7"
      },
      "source": [
        "odd=[1,3,5,7,9]\r\n",
        "even=[0,2,4,6,8]\r\n",
        "  \r\n",
        "print('odd numbers are:',odd)\r\n",
        "print('even numbers are:',even)\r\n",
        "\r\n",
        "all=odd+even\r\n",
        "print('combination:',all)\r\n",
        "\r\n",
        "for i in all:\r\n",
        "  i=i*2\r\n",
        "  print(i)\r\n",
        "  print(type(i))"
      ],
      "execution_count": null,
      "outputs": []
    }
  ]
}