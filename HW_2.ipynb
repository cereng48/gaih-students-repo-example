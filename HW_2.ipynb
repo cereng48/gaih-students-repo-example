{
  "nbformat": 4,
  "nbformat_minor": 0,
  "metadata": {
    "colab": {
      "name": "HW-2.ipynb",
      "provenance": [],
      "authorship_tag": "ABX9TyMsUvRWX1pvoHGC3G+r4+pa",
      "include_colab_link": true
    },
    "kernelspec": {
      "name": "python3",
      "display_name": "Python 3"
    }
  },
  "cells": [
    {
      "cell_type": "markdown",
      "metadata": {
        "id": "view-in-github",
        "colab_type": "text"
      },
      "source": [
        "<a href=\"https://colab.research.google.com/github/cereng48/gaih-students-repo-example/blob/main/HW_2.ipynb\" target=\"_parent\"><img src=\"https://colab.research.google.com/assets/colab-badge.svg\" alt=\"Open In Colab\"/></a>"
      ]
    },
    {
      "cell_type": "code",
      "metadata": {
        "id": "wMIMrD0-X50g"
      },
      "source": [
        "OmerCV = {\"Name\":\"Omer\", \"Surname\":\"Cengiz\", \"Age\":\"30\", \"Job Title\":\"Instructor\",\"Cgpa\":\"4.00\\n\"}\r\n",
        "CerenCV = {\"Name\":\"Ceren\", \"Surname\":\"Genek\", \"Age\":\"25\", \"Job Title\":\"Engineer\",\"Cgpa\":\"2.87\\n\"}\r\n",
        "CenkCV = {\"Name\":\"Cenk\", \"Surname\":\"Kır\", \"Age\":\"18\", \"Job Title\":\"Doctor\",\"Cgpa\":\"2.99\\n\"}\r\n",
        "RanaCV = {\"Name\":\"Rana\", \"Surname\":\"Yıprar\", \"Age\":\"22\", \"Job Title\":\"Dentist\",\"Cgpa\":\"1.87\\n\"}\r\n",
        "BusraCV = {\"Name\":\"Busra\", \"Surname\":\"Sav\", \"Age\":\"44\", \"Job Title\":\"Lawyer\",\"Cgpa\":\"3.50\\n\"}\r\n",
        "\r\n",
        "def printCVs(cv):\r\n",
        "    print(cv[\"Name\"],\"'s CV:\\n\")\r\n",
        "    for key in cv:\r\n",
        "        print(key,\":\",  cv[key])\r\n",
        "\r\n",
        "\r\n",
        "printCVs(OmerCV)\r\n",
        "printCVs(CerenCV)\r\n",
        "printCVs(CenkCV)\r\n",
        "printCVs(RanaCV)\r\n",
        "printCVs(BusraCV)"
      ],
      "execution_count": null,
      "outputs": []
    }
  ]
}