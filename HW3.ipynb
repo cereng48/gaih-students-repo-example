{
  "nbformat": 4,
  "nbformat_minor": 0,
  "metadata": {
    "colab": {
      "name": "Untitled",
      "provenance": [],
      "authorship_tag": "ABX9TyM8ApJveY7GEJaYm6T5H25m",
      "include_colab_link": true
    },
    "kernelspec": {
      "name": "python3",
      "display_name": "Python 3"
    }
  },
  "cells": [
    {
      "cell_type": "markdown",
      "metadata": {
        "id": "view-in-github",
        "colab_type": "text"
      },
      "source": [
        "<a href=\"https://colab.research.google.com/github/cereng48/gaih-students-repo-example/blob/main/HW3.ipynb\" target=\"_parent\"><img src=\"https://colab.research.google.com/assets/colab-badge.svg\" alt=\"Open In Colab\"/></a>"
      ]
    },
    {
      "cell_type": "code",
      "metadata": {
        "id": "u_c-_EGRSb3l"
      },
      "source": [
        "liste=[]\r\n",
        "def func(x):\r\n",
        "  \r\n",
        "    name=x #\"Öğrencinin ismi\r\n",
        "    midterm=float(input( name+\" isimli öğrencinin midterm notu:\"))\r\n",
        "    project=float(input( name+\" isimli öğrencinin project notu:\"))\r\n",
        "    final=float(input( name+\" isimli öğrencinin final notu:\"))\r\n",
        "    passingGrade=midterm*0.3+project*0.3+final*0.4\r\n",
        "\r\n",
        "    d = {\"Student Name\":name, \"Midterm Grade\":midterm, \"Project Grade\":project,\"Final Grade\":final,\"Passing Grade\":passingGrade}\r\n",
        "    print(d)\r\n",
        " \r\n",
        "    a=d.get('Passing Grade')\r\n",
        "    print(a)\r\n",
        "    liste.append(a)\r\n",
        "    print(liste)\r\n",
        "  \r\n",
        "for i in ['Ali','Veli','Ayşe','Fatma','Ahmet']:\r\n",
        "      func(i)\r\n",
        "\r\n",
        "liste.sort()\r\n",
        "liste.reverse()\r\n",
        "print('Passing Grade of Students:',liste)"
      ],
      "execution_count": null,
      "outputs": []
    }
  ]
}